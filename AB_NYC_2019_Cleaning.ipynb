{
 "cells": [
  {
   "cell_type": "markdown",
   "id": "0ccedf29",
   "metadata": {},
   "source": [
    "# NYC Airbnb Data Cleaning\n",
    "This notebook focuses on cleaning the NYC Airbnb dataset. The goal is to prepare the data for further analysis."
   ]
  },
  {
   "cell_type": "markdown",
   "id": "5f487428",
   "metadata": {},
   "source": [
    "## Initial Data Exploration"
   ]
  },
  {
   "cell_type": "code",
   "execution_count": 1,
   "id": "c76949b0",
   "metadata": {},
   "outputs": [
    {
     "data": {
      "text/html": [
       "<div>\n",
       "<style scoped>\n",
       "    .dataframe tbody tr th:only-of-type {\n",
       "        vertical-align: middle;\n",
       "    }\n",
       "\n",
       "    .dataframe tbody tr th {\n",
       "        vertical-align: top;\n",
       "    }\n",
       "\n",
       "    .dataframe thead th {\n",
       "        text-align: right;\n",
       "    }\n",
       "</style>\n",
       "<table border=\"1\" class=\"dataframe\">\n",
       "  <thead>\n",
       "    <tr style=\"text-align: right;\">\n",
       "      <th></th>\n",
       "      <th>id</th>\n",
       "      <th>name</th>\n",
       "      <th>host_id</th>\n",
       "      <th>host_name</th>\n",
       "      <th>neighbourhood_group</th>\n",
       "      <th>neighbourhood</th>\n",
       "      <th>latitude</th>\n",
       "      <th>longitude</th>\n",
       "      <th>room_type</th>\n",
       "      <th>price</th>\n",
       "      <th>minimum_nights</th>\n",
       "      <th>number_of_reviews</th>\n",
       "      <th>last_review</th>\n",
       "      <th>reviews_per_month</th>\n",
       "      <th>calculated_host_listings_count</th>\n",
       "      <th>availability_365</th>\n",
       "    </tr>\n",
       "  </thead>\n",
       "  <tbody>\n",
       "    <tr>\n",
       "      <th>0</th>\n",
       "      <td>2539</td>\n",
       "      <td>Clean &amp; quiet apt home by the park</td>\n",
       "      <td>2787</td>\n",
       "      <td>John</td>\n",
       "      <td>Brooklyn</td>\n",
       "      <td>Kensington</td>\n",
       "      <td>40.64749</td>\n",
       "      <td>-73.97237</td>\n",
       "      <td>Private room</td>\n",
       "      <td>149</td>\n",
       "      <td>1</td>\n",
       "      <td>9</td>\n",
       "      <td>2018-10-19</td>\n",
       "      <td>0.21</td>\n",
       "      <td>6</td>\n",
       "      <td>365</td>\n",
       "    </tr>\n",
       "    <tr>\n",
       "      <th>1</th>\n",
       "      <td>2595</td>\n",
       "      <td>Skylit Midtown Castle</td>\n",
       "      <td>2845</td>\n",
       "      <td>Jennifer</td>\n",
       "      <td>Manhattan</td>\n",
       "      <td>Midtown</td>\n",
       "      <td>40.75362</td>\n",
       "      <td>-73.98377</td>\n",
       "      <td>Entire home/apt</td>\n",
       "      <td>225</td>\n",
       "      <td>1</td>\n",
       "      <td>45</td>\n",
       "      <td>2019-05-21</td>\n",
       "      <td>0.38</td>\n",
       "      <td>2</td>\n",
       "      <td>355</td>\n",
       "    </tr>\n",
       "    <tr>\n",
       "      <th>2</th>\n",
       "      <td>3647</td>\n",
       "      <td>THE VILLAGE OF HARLEM....NEW YORK !</td>\n",
       "      <td>4632</td>\n",
       "      <td>Elisabeth</td>\n",
       "      <td>Manhattan</td>\n",
       "      <td>Harlem</td>\n",
       "      <td>40.80902</td>\n",
       "      <td>-73.94190</td>\n",
       "      <td>Private room</td>\n",
       "      <td>150</td>\n",
       "      <td>3</td>\n",
       "      <td>0</td>\n",
       "      <td>NaN</td>\n",
       "      <td>NaN</td>\n",
       "      <td>1</td>\n",
       "      <td>365</td>\n",
       "    </tr>\n",
       "    <tr>\n",
       "      <th>3</th>\n",
       "      <td>3831</td>\n",
       "      <td>Cozy Entire Floor of Brownstone</td>\n",
       "      <td>4869</td>\n",
       "      <td>LisaRoxanne</td>\n",
       "      <td>Brooklyn</td>\n",
       "      <td>Clinton Hill</td>\n",
       "      <td>40.68514</td>\n",
       "      <td>-73.95976</td>\n",
       "      <td>Entire home/apt</td>\n",
       "      <td>89</td>\n",
       "      <td>1</td>\n",
       "      <td>270</td>\n",
       "      <td>2019-07-05</td>\n",
       "      <td>4.64</td>\n",
       "      <td>1</td>\n",
       "      <td>194</td>\n",
       "    </tr>\n",
       "    <tr>\n",
       "      <th>4</th>\n",
       "      <td>5022</td>\n",
       "      <td>Entire Apt: Spacious Studio/Loft by central park</td>\n",
       "      <td>7192</td>\n",
       "      <td>Laura</td>\n",
       "      <td>Manhattan</td>\n",
       "      <td>East Harlem</td>\n",
       "      <td>40.79851</td>\n",
       "      <td>-73.94399</td>\n",
       "      <td>Entire home/apt</td>\n",
       "      <td>80</td>\n",
       "      <td>10</td>\n",
       "      <td>9</td>\n",
       "      <td>2018-11-19</td>\n",
       "      <td>0.10</td>\n",
       "      <td>1</td>\n",
       "      <td>0</td>\n",
       "    </tr>\n",
       "  </tbody>\n",
       "</table>\n",
       "</div>"
      ],
      "text/plain": [
       "     id                                              name  host_id  \\\n",
       "0  2539                Clean & quiet apt home by the park     2787   \n",
       "1  2595                             Skylit Midtown Castle     2845   \n",
       "2  3647               THE VILLAGE OF HARLEM....NEW YORK !     4632   \n",
       "3  3831                   Cozy Entire Floor of Brownstone     4869   \n",
       "4  5022  Entire Apt: Spacious Studio/Loft by central park     7192   \n",
       "\n",
       "     host_name neighbourhood_group neighbourhood  latitude  longitude  \\\n",
       "0         John            Brooklyn    Kensington  40.64749  -73.97237   \n",
       "1     Jennifer           Manhattan       Midtown  40.75362  -73.98377   \n",
       "2    Elisabeth           Manhattan        Harlem  40.80902  -73.94190   \n",
       "3  LisaRoxanne            Brooklyn  Clinton Hill  40.68514  -73.95976   \n",
       "4        Laura           Manhattan   East Harlem  40.79851  -73.94399   \n",
       "\n",
       "         room_type  price  minimum_nights  number_of_reviews last_review  \\\n",
       "0     Private room    149               1                  9  2018-10-19   \n",
       "1  Entire home/apt    225               1                 45  2019-05-21   \n",
       "2     Private room    150               3                  0         NaN   \n",
       "3  Entire home/apt     89               1                270  2019-07-05   \n",
       "4  Entire home/apt     80              10                  9  2018-11-19   \n",
       "\n",
       "   reviews_per_month  calculated_host_listings_count  availability_365  \n",
       "0               0.21                               6               365  \n",
       "1               0.38                               2               355  \n",
       "2                NaN                               1               365  \n",
       "3               4.64                               1               194  \n",
       "4               0.10                               1                 0  "
      ]
     },
     "execution_count": 1,
     "metadata": {},
     "output_type": "execute_result"
    }
   ],
   "source": [
    "import pandas as pd\n",
    "df = pd.read_csv(\"AB_NYC_2019.csv\")\n",
    "df.head()"
   ]
  },
  {
   "cell_type": "code",
   "execution_count": 2,
   "id": "c3ae82ab",
   "metadata": {},
   "outputs": [
    {
     "name": "stdout",
     "output_type": "stream",
     "text": [
      "<class 'pandas.core.frame.DataFrame'>\n",
      "RangeIndex: 48895 entries, 0 to 48894\n",
      "Data columns (total 16 columns):\n",
      " #   Column                          Non-Null Count  Dtype  \n",
      "---  ------                          --------------  -----  \n",
      " 0   id                              48895 non-null  int64  \n",
      " 1   name                            48879 non-null  object \n",
      " 2   host_id                         48895 non-null  int64  \n",
      " 3   host_name                       48874 non-null  object \n",
      " 4   neighbourhood_group             48895 non-null  object \n",
      " 5   neighbourhood                   48895 non-null  object \n",
      " 6   latitude                        48895 non-null  float64\n",
      " 7   longitude                       48895 non-null  float64\n",
      " 8   room_type                       48895 non-null  object \n",
      " 9   price                           48895 non-null  int64  \n",
      " 10  minimum_nights                  48895 non-null  int64  \n",
      " 11  number_of_reviews               48895 non-null  int64  \n",
      " 12  last_review                     38843 non-null  object \n",
      " 13  reviews_per_month               38843 non-null  float64\n",
      " 14  calculated_host_listings_count  48895 non-null  int64  \n",
      " 15  availability_365                48895 non-null  int64  \n",
      "dtypes: float64(3), int64(7), object(6)\n",
      "memory usage: 6.0+ MB\n"
     ]
    }
   ],
   "source": [
    "df.info()"
   ]
  },
  {
   "cell_type": "markdown",
   "id": "0abe73a1",
   "metadata": {},
   "source": [
    "The dataset consists of 48895 entries across the following 16 columns:\n",
    "\n",
    "1. `id`: The unique identifier for the listing.\n",
    "2. `name`: The name of the listing.\n",
    "3. `host_id`: The host's unique identifier.\n",
    "4. `host_name`: The name of the host.\n",
    "5. `neighbourhood_group`: The borough the listing is located in.\n",
    "6. `neighbourhood`: The neighborhood of the listing.\n",
    "7. `latitude`: The latitude coordinate of the listing.\n",
    "8. `longitude`: The longitude coordinate of the listing.\n",
    "9. `room_type`: The type of room offered (e.g., entire home/apt, private room).\n",
    "10. `price`: The price per night for the listing.\n",
    "11. `minimum_nights`: The minimum number of nights required for a booking.\n",
    "12. `number_of_reviews`: The total number of reviews the listing has received.\n",
    "13. `last_review`: The date of the last review.\n",
    "14. `reviews_per_month`: The average number of reviews per month.\n",
    "15. `calculated_host_listings_count`: The number of listings the host has in total.\n",
    "16. `availability_365`: The number of days the listing is available for booking in a year."
   ]
  },
  {
   "cell_type": "markdown",
   "id": "88478c18",
   "metadata": {},
   "source": [
    "For data cleaning, we can consider the following steps:\n",
    "\n",
    "1. Handling Missing Values: Identify and handle missing values in columns like name, host_name, last_review, and reviews_per_month.\n",
    "2. Data Type Corrections: Ensure that each column is of the appropriate data type.\n",
    "3. Data Consistency: Check for consistency in textual data, such as neighbourhood_group and room_type.\n",
    "4. Outliers: Identify and handle any outliers, particularly in columns like price, minimum_nights, and number_of_reviews.\n",
    "5. Duplicate Records: Check for and remove any duplicate entries."
   ]
  },
  {
   "cell_type": "markdown",
   "id": "be2fdb9b",
   "metadata": {},
   "source": [
    "## Handling Missing Values"
   ]
  },
  {
   "cell_type": "code",
   "execution_count": 3,
   "id": "24324958",
   "metadata": {},
   "outputs": [
    {
     "data": {
      "text/plain": [
       "id                                    0\n",
       "name                                 16\n",
       "host_id                               0\n",
       "host_name                            21\n",
       "neighbourhood_group                   0\n",
       "neighbourhood                         0\n",
       "latitude                              0\n",
       "longitude                             0\n",
       "room_type                             0\n",
       "price                                 0\n",
       "minimum_nights                        0\n",
       "number_of_reviews                     0\n",
       "last_review                       10052\n",
       "reviews_per_month                 10052\n",
       "calculated_host_listings_count        0\n",
       "availability_365                      0\n",
       "dtype: int64"
      ]
     },
     "execution_count": 3,
     "metadata": {},
     "output_type": "execute_result"
    }
   ],
   "source": [
    "df.isnull().sum()"
   ]
  },
  {
   "cell_type": "markdown",
   "id": "767b12cf",
   "metadata": {},
   "source": [
    "We can replace `name` and `host_name` missing values with uknown."
   ]
  },
  {
   "cell_type": "code",
   "execution_count": 4,
   "id": "01c75660",
   "metadata": {},
   "outputs": [],
   "source": [
    "df.fillna({'name': 'Unknown', 'host_name': 'Unknown'}, inplace=True)"
   ]
  },
  {
   "cell_type": "markdown",
   "id": "fef4b98f",
   "metadata": {},
   "source": [
    "We suspect that all missing values in the `last_review` and `reviews_per_month` columns are due to no reviews being submitted for these columns. We also check that the null values in these columns coincide."
   ]
  },
  {
   "cell_type": "code",
   "execution_count": 5,
   "id": "aa0b859c",
   "metadata": {},
   "outputs": [
    {
     "name": "stdout",
     "output_type": "stream",
     "text": [
      "True\n"
     ]
    }
   ],
   "source": [
    "missing_reviews_df = df[df.last_review.isna() & df.reviews_per_month.isna()]\n",
    "print((missing_reviews_df.number_of_reviews == 0).all())"
   ]
  },
  {
   "cell_type": "code",
   "execution_count": 6,
   "id": "bb2f89e4",
   "metadata": {},
   "outputs": [
    {
     "data": {
      "text/plain": [
       "0"
      ]
     },
     "execution_count": 6,
     "metadata": {},
     "output_type": "execute_result"
    }
   ],
   "source": [
    "# Checking for any entries with 0 reviews but non-Null values in last_review\n",
    "df[(df.number_of_reviews == 0) & (df.last_review.notna())].shape[0]"
   ]
  },
  {
   "cell_type": "code",
   "execution_count": 7,
   "id": "e40cbfb1",
   "metadata": {},
   "outputs": [
    {
     "data": {
      "text/plain": [
       "10052"
      ]
     },
     "execution_count": 7,
     "metadata": {},
     "output_type": "execute_result"
    }
   ],
   "source": [
    "missing_reviews_df.shape[0]"
   ]
  },
  {
   "cell_type": "markdown",
   "id": "ca05559b",
   "metadata": {},
   "source": [
    "In our dataset, we observe that both the `last_reviews` and `reviews_per_month` columns have exactly 10,052 missing values. This exactly matches the number of entries in `missing_reviews_df`, indicating we've captured all missing values. Furthermore, we've confirmed that all entries in `missing_reviews_df` have 0 in the `number_of_reveiws` column.\n",
    "\n",
    "We've decided to replace missing values in the `reviews_per_month` column with 0. \n",
    "\n",
    "As for the `last_review` column, we will retain the null values. Filling these missing values with artificial data could potentially introduce bias or inaccuracies in future analyses, especially in studies focusing on the temporal aspects of reviews."
   ]
  },
  {
   "cell_type": "code",
   "execution_count": 8,
   "id": "869e3ef8",
   "metadata": {},
   "outputs": [],
   "source": [
    "df.fillna({'reviews_per_month': 0}, inplace=True)"
   ]
  },
  {
   "cell_type": "code",
   "execution_count": 9,
   "id": "46d52cbb",
   "metadata": {},
   "outputs": [
    {
     "data": {
      "text/plain": [
       "id                                    0\n",
       "name                                  0\n",
       "host_id                               0\n",
       "host_name                             0\n",
       "neighbourhood_group                   0\n",
       "neighbourhood                         0\n",
       "latitude                              0\n",
       "longitude                             0\n",
       "room_type                             0\n",
       "price                                 0\n",
       "minimum_nights                        0\n",
       "number_of_reviews                     0\n",
       "last_review                       10052\n",
       "reviews_per_month                     0\n",
       "calculated_host_listings_count        0\n",
       "availability_365                      0\n",
       "dtype: int64"
      ]
     },
     "execution_count": 9,
     "metadata": {},
     "output_type": "execute_result"
    }
   ],
   "source": [
    "df.isnull().sum()"
   ]
  },
  {
   "cell_type": "markdown",
   "id": "a0a98bec",
   "metadata": {},
   "source": [
    "## Data Type Corrections\n",
    "We now will convert all the non-null values of `last_reviews` to a date-time format."
   ]
  },
  {
   "cell_type": "code",
   "execution_count": 10,
   "id": "c0dcf6de",
   "metadata": {},
   "outputs": [
    {
     "name": "stdout",
     "output_type": "stream",
     "text": [
      "datetime64[ns]\n"
     ]
    }
   ],
   "source": [
    "df.last_review = pd.to_datetime(df.last_review, errors='coerce')\n",
    "print(df['last_review'].dtype)"
   ]
  },
  {
   "cell_type": "code",
   "execution_count": 11,
   "id": "2b6f73d8",
   "metadata": {},
   "outputs": [
    {
     "data": {
      "text/html": [
       "<div>\n",
       "<style scoped>\n",
       "    .dataframe tbody tr th:only-of-type {\n",
       "        vertical-align: middle;\n",
       "    }\n",
       "\n",
       "    .dataframe tbody tr th {\n",
       "        vertical-align: top;\n",
       "    }\n",
       "\n",
       "    .dataframe thead th {\n",
       "        text-align: right;\n",
       "    }\n",
       "</style>\n",
       "<table border=\"1\" class=\"dataframe\">\n",
       "  <thead>\n",
       "    <tr style=\"text-align: right;\">\n",
       "      <th></th>\n",
       "      <th>id</th>\n",
       "      <th>name</th>\n",
       "      <th>host_id</th>\n",
       "      <th>host_name</th>\n",
       "      <th>neighbourhood_group</th>\n",
       "      <th>neighbourhood</th>\n",
       "      <th>latitude</th>\n",
       "      <th>longitude</th>\n",
       "      <th>room_type</th>\n",
       "      <th>price</th>\n",
       "      <th>minimum_nights</th>\n",
       "      <th>number_of_reviews</th>\n",
       "      <th>last_review</th>\n",
       "      <th>reviews_per_month</th>\n",
       "      <th>calculated_host_listings_count</th>\n",
       "      <th>availability_365</th>\n",
       "    </tr>\n",
       "  </thead>\n",
       "  <tbody>\n",
       "    <tr>\n",
       "      <th>0</th>\n",
       "      <td>2539</td>\n",
       "      <td>Clean &amp; quiet apt home by the park</td>\n",
       "      <td>2787</td>\n",
       "      <td>John</td>\n",
       "      <td>Brooklyn</td>\n",
       "      <td>Kensington</td>\n",
       "      <td>40.64749</td>\n",
       "      <td>-73.97237</td>\n",
       "      <td>Private room</td>\n",
       "      <td>149</td>\n",
       "      <td>1</td>\n",
       "      <td>9</td>\n",
       "      <td>2018-10-19</td>\n",
       "      <td>0.21</td>\n",
       "      <td>6</td>\n",
       "      <td>365</td>\n",
       "    </tr>\n",
       "    <tr>\n",
       "      <th>1</th>\n",
       "      <td>2595</td>\n",
       "      <td>Skylit Midtown Castle</td>\n",
       "      <td>2845</td>\n",
       "      <td>Jennifer</td>\n",
       "      <td>Manhattan</td>\n",
       "      <td>Midtown</td>\n",
       "      <td>40.75362</td>\n",
       "      <td>-73.98377</td>\n",
       "      <td>Entire home/apt</td>\n",
       "      <td>225</td>\n",
       "      <td>1</td>\n",
       "      <td>45</td>\n",
       "      <td>2019-05-21</td>\n",
       "      <td>0.38</td>\n",
       "      <td>2</td>\n",
       "      <td>355</td>\n",
       "    </tr>\n",
       "    <tr>\n",
       "      <th>2</th>\n",
       "      <td>3647</td>\n",
       "      <td>THE VILLAGE OF HARLEM....NEW YORK !</td>\n",
       "      <td>4632</td>\n",
       "      <td>Elisabeth</td>\n",
       "      <td>Manhattan</td>\n",
       "      <td>Harlem</td>\n",
       "      <td>40.80902</td>\n",
       "      <td>-73.94190</td>\n",
       "      <td>Private room</td>\n",
       "      <td>150</td>\n",
       "      <td>3</td>\n",
       "      <td>0</td>\n",
       "      <td>NaT</td>\n",
       "      <td>0.00</td>\n",
       "      <td>1</td>\n",
       "      <td>365</td>\n",
       "    </tr>\n",
       "    <tr>\n",
       "      <th>3</th>\n",
       "      <td>3831</td>\n",
       "      <td>Cozy Entire Floor of Brownstone</td>\n",
       "      <td>4869</td>\n",
       "      <td>LisaRoxanne</td>\n",
       "      <td>Brooklyn</td>\n",
       "      <td>Clinton Hill</td>\n",
       "      <td>40.68514</td>\n",
       "      <td>-73.95976</td>\n",
       "      <td>Entire home/apt</td>\n",
       "      <td>89</td>\n",
       "      <td>1</td>\n",
       "      <td>270</td>\n",
       "      <td>2019-07-05</td>\n",
       "      <td>4.64</td>\n",
       "      <td>1</td>\n",
       "      <td>194</td>\n",
       "    </tr>\n",
       "    <tr>\n",
       "      <th>4</th>\n",
       "      <td>5022</td>\n",
       "      <td>Entire Apt: Spacious Studio/Loft by central park</td>\n",
       "      <td>7192</td>\n",
       "      <td>Laura</td>\n",
       "      <td>Manhattan</td>\n",
       "      <td>East Harlem</td>\n",
       "      <td>40.79851</td>\n",
       "      <td>-73.94399</td>\n",
       "      <td>Entire home/apt</td>\n",
       "      <td>80</td>\n",
       "      <td>10</td>\n",
       "      <td>9</td>\n",
       "      <td>2018-11-19</td>\n",
       "      <td>0.10</td>\n",
       "      <td>1</td>\n",
       "      <td>0</td>\n",
       "    </tr>\n",
       "  </tbody>\n",
       "</table>\n",
       "</div>"
      ],
      "text/plain": [
       "     id                                              name  host_id  \\\n",
       "0  2539                Clean & quiet apt home by the park     2787   \n",
       "1  2595                             Skylit Midtown Castle     2845   \n",
       "2  3647               THE VILLAGE OF HARLEM....NEW YORK !     4632   \n",
       "3  3831                   Cozy Entire Floor of Brownstone     4869   \n",
       "4  5022  Entire Apt: Spacious Studio/Loft by central park     7192   \n",
       "\n",
       "     host_name neighbourhood_group neighbourhood  latitude  longitude  \\\n",
       "0         John            Brooklyn    Kensington  40.64749  -73.97237   \n",
       "1     Jennifer           Manhattan       Midtown  40.75362  -73.98377   \n",
       "2    Elisabeth           Manhattan        Harlem  40.80902  -73.94190   \n",
       "3  LisaRoxanne            Brooklyn  Clinton Hill  40.68514  -73.95976   \n",
       "4        Laura           Manhattan   East Harlem  40.79851  -73.94399   \n",
       "\n",
       "         room_type  price  minimum_nights  number_of_reviews last_review  \\\n",
       "0     Private room    149               1                  9  2018-10-19   \n",
       "1  Entire home/apt    225               1                 45  2019-05-21   \n",
       "2     Private room    150               3                  0         NaT   \n",
       "3  Entire home/apt     89               1                270  2019-07-05   \n",
       "4  Entire home/apt     80              10                  9  2018-11-19   \n",
       "\n",
       "   reviews_per_month  calculated_host_listings_count  availability_365  \n",
       "0               0.21                               6               365  \n",
       "1               0.38                               2               355  \n",
       "2               0.00                               1               365  \n",
       "3               4.64                               1               194  \n",
       "4               0.10                               1                 0  "
      ]
     },
     "execution_count": 11,
     "metadata": {},
     "output_type": "execute_result"
    }
   ],
   "source": [
    "df.head()"
   ]
  },
  {
   "cell_type": "code",
   "execution_count": 12,
   "id": "b069ef2a",
   "metadata": {},
   "outputs": [
    {
     "data": {
      "text/plain": [
       "10052"
      ]
     },
     "execution_count": 12,
     "metadata": {},
     "output_type": "execute_result"
    }
   ],
   "source": [
    "df.last_review.isnull().sum()"
   ]
  },
  {
   "cell_type": "markdown",
   "id": "b4850830",
   "metadata": {},
   "source": [
    "## Data Consistency\n",
    "Checking for capitalization errors."
   ]
  },
  {
   "cell_type": "code",
   "execution_count": 13,
   "id": "3a419d19",
   "metadata": {},
   "outputs": [
    {
     "name": "stdout",
     "output_type": "stream",
     "text": [
      "Potential capitalization issues in column 'name': {'Beautiful 1 bedroom apartment', 'Bedroom with Private bathroom', 'Cozy Room in Manhattan', 'Private room in Greenpoint', 'Simple + Cute + Spacious Studio (perfect for 1-2)', 'Large Room in Spacious Apartment', 'Large room in two-story Brownstone', 'studio apartment', 'NYC Experience', 'Charming 1 bedroom in West Village', 'Spacious 1 Bed in the heart of Manhattan', 'Murray Hill Studio', 'Classic Brooklyn Brownstone', 'Beautiful Apartment, Great Location', 'Beautiful sunny bushwick loft', 'Private room in spacious apartment', 'Cozy home away from home', 'Cozy Studio in Upper East Side', 'Cozy apartment', 'The Garden Apartment', 'New York on the Ocean', 'Room', 'Beautiful Apartment in the heart of Chelsea', 'Cozy room in Brooklyn', 'Private Room in LES', 'YANKEE BASEBALL STAY', 'Private Room in Uptown Manhattan', 'Cozy 1 Bedroom in Upper East Side', 'Spacious Apartment in the heart of Williamsburg', 'Apt in heart of Williamsburg', 'BEAUTIFUL APARTMENT, GREAT LOCATION', '2 bedroom apartment in harlem', 'Private room in Park Slope', 'spacious apartment in Ditmas Park', 'private room near columbia', 'BK Home Away From Home', 'Spacious Room in Park Slope', '1 Bedroom in Williamsburg', 'Charming Upper West Side Apartment', 'Cozy Brooklyn Getaway', 'PRIVATE ROOM in the heart of MANHATTAN', 'Charming Studio Apartment', 'Private Room in Greenpoint', 'Greenpoint getaway', 'Central Park Studio', 'Brooklyn paradise', 'East Village Sanctuary', 'Beautiful bright room in Soho', 'Le Chateau Vacation', 'Cozy Private Room', 'Beautiful private room!', 'Spacious One Bedroom Apartment', 'Big Private Room in Manhattan', 'Private Bedroom in Bedstuy!', 'Large Room in Washington Heights', 'Spacious private room', 'Penthouse in FiDi', 'Private Room in the heart of financial district', 'MANHATTAN STUDIO', 'Studio apartment in the heart of Chelsea', 'Private room near Columbia', 'Beautiful Bedroom in Manhattan', 'Lovely apartment', 'Cozy Apartment in Brooklyn', 'Your Home Away From Home', 'Cozy private room Near Central Park', 'Charming Studio close to everything', 'New York on The Ocean', 'Private Room in Bushwick!', 'Brownstone Apt near Central Park', 'Cozy One Bedroom Apartment', 'Private room in Williamsburg loft', 'Charming studio in the heart of Astoria', 'Cozy studio on the Upper East Side!', 'Cozy West Village apartment', 'Marsha Inn', 'COZY APARTMENT NEXT TO CENTRAL PARK', 'The garden apartment', 'Lower East Side Gem', 'one bedroom', \"Private Room in Hell's Kitchen\", 'Lovely room in Williamsburg', 'Brooklyn home', 'HEART OF BUSHWICK', 'Sunny Private Room in Brooklyn', 'Home away from home', 'Heart of the City', 'Spacious East village apartment', 'Your own apartment in Lower Manhattan', 'Spacious 1 bed in the heart of Manhattan', 'Brooklyn home with a view', 'Sunny and Spacious Private Room', 'COSY BEDROOM in CITY CENTER', 'Hip Bushwick apartment', 'Cozy Room Close to Columbia', 'Studio Apartment in the heart of Chelsea', '1 Bedroom', 'Sunny private room in Brooklyn', 'Private Room in WILLIAMSBURG', 'Cozy East Village studio', 'Private room in Manhattan', 'Williamsburg Dream loft', 'Prime East Village 1 bedroom', 'Bedroom with Private Bathroom', 'Private Bedroom in Manhattan', 'Sunny and spacious private room', 'UWS STUDIO', 'beautiful spacious room', '2 Bed 2 Bath Close To Park Pool in building', 'cozy apartment', 'Cozy Studio with private entrance', 'Spacious Apartment in the Heart of Manhattan', 'Cozy 1 bedroom in Clinton Hill', 'Private Room In Upper East Side', 'Brownstone Apt Near Central Park', 'Home away from home.', 'Spacious Apartment in the Heart of Williamsburg', 'Close to East Side Hospitals- Modern 2 Bedroom Apt', 'Sunny studio in midtown Manhattan', 'Beautiful apartment in Williamsburg', 'Beautiful Apartment in Greenpoint', 'Penthouse with Manhattan views', 'Homey, Friendly Apt Share Next To Subway', 'Duplex Apartment', 'Beautiful apartment in Greenpoint', 'Great Apt steps from Central Park', 'room b', '1 BEDROOM in Brooklyn', 'Single Room', 'Lovely Room in Williamsburg', 'Beautiful 1 Bedroom apartment', 'Cozy Studio Apartment', 'Feel at Home', 'LOWER EAST SIDE GEM', 'Private room in beautiful apartment', 'Comfy private bedroom', 'Light-Filled Williamsburg Loft', 'Large private bedroom', 'Home Away from Home in Brooklyn/Queens borderline', 'Room in the Heart of Williamsburg', 'HEART of Manhattan', 'room', 'Private bedroom in Sunny Bushwick Apartment', 'Beautiful Chelsea townhouse bedroom', 'Private room in Uptown Manhattan', 'Cozy Upper East Side studio', 'Greenpoint Getaway', 'Cozy room in Astoria', 'Beautiful 1 Bedroom Apt', 'COMFORT ZONE', 'Best location in ny', 'Brooklyn palace', 'Cozy Studio Close to Central Park', 'Bushwick Loft', 'Charming Brownstone Apartment', 'Bedroom', '1 Bedroom in 2 bedroom Apartment', 'Spacious room in Williamsburg', 'Beautiful Room in Manhattan', 'PentHouse In FiDi', 'Bright Room in Bushwick', '1 bedroom', 'Private bedroom in Manhattan', 'Tranquility', 'GREENPOINT OASIS', 'Lovely studio', 'Sunny Bushwick apartment', 'Cozy Studio in Gramercy', 'Spacious Duplex w/ Additional Loft.', 'Sunny Studio in Chelsea', '*Lovely Apt In Heart Of Park Slope*', 'Private room in Clinton Hill', '1 bedroom in The East Village', 'Deluxe bedroom w/ 2 beds - 3 Stops to Times Square', 'Beautiful studio', 'Cozy private bedroom', 'Your Home away from Home', 'Charming Private Room', 'Cozy home', 'Cozy One bedroom apartment', 'Private Cozy Room', 'Charming upper west side apartment', '1 Bedroom in east village', 'Jades place', 'Charming brownstone apartment', 'Brooklyn home with a View', 'Cozy room in Williamsburg Apartment', 'not available', 'Beautiful Modern Apt in Brooklyn', 'Big private room in Manhattan', 'New York City living', 'Private room in queens', 'Spacious Apartment in Ditmas Park', 'Perfect room in Brooklyn', 'Private Room in Harlem', 'Sunny room', 'Spacious room in Park Slope', 'Park Slope Townhouse', 'COZY STUDIO', 'Private Room in Williamsburg', 'Beautiful Brownstone', 'Spacious 1 Bedroom in East Village', 'Cozy Upper East Side apartment', 'Private room in Upper East Side', 'Private Room in Bed-stuy', 'beautiful 1 bedroom apt', 'Large room in spacious apartment', 'Cozy studio in Upper East Side', 'Bright room in Williamsburg', 'Spacious PRIVATE Room', '1 bedroom in Williamsburg', 'Sunny East Village Apartment', 'large private bedroom', 'Private room in Lower East Side', 'UWS studio', 'Room in house with WiFi and Netflix', '1 bedroom in East village', 'Private Room in Manhattan', '1 Bedroom in Prime Williamsburg', 'Private room', 'Beautiful bedroom in Manhattan', 'Charming Brooklyn studio', 'Private room for rent', 'Cozy private room in Astoria', 'Beautiful Studio', '1 Bedroom in East Village', 'Cozy room in the heart of Astoria', 'MODERN NYC APARTMENT', 'Light-filled Williamsburg Loft', 'Cozy 1 Bedroom in Clinton Hill', 'One Bedroom', 'Beautiful Brooklyn Room', 'Studio near Time Square', 'Private bedroom in Williamsburg', 'bedroom', 'Cozy Private Bedroom', 'Cozy Bedroom', '2 Bedroom Apartment in Harlem', 'Private room in Bushwick!', 'Charming studio in Brooklyn', 'Lovely Private Room in the Heart of Williamsburg', 'Brooklyn apt', 'Hamilton Heights home', 'Greenpoint Room', 'Sunny room in Lower East Side Apt!', 'Room in the HEART of Williamsburg', 'A taste of Brooklyn', 'spacious studio', 'Cozy Guest Room in Brooklyn', 'Private bedroom in BedStuy!', 'Cozy Room', 'Room available in BUSHWICK!', 'Cozy Room in Clinton Hill, Bk', 'Charming Harlem Apartment', 'Private room in Williamsburg', 'Large bedroom', 'Beautiful Apartment in Brooklyn Heights', 'WILLIAMSBURG BEDROOM', 'Private room in Bushwick Loft', 'MOXY NYC DOWNTOWN-7 NIGHTS MIN', 'Time Square private studio', 'Sunny Room in Brooklyn', 'A Room WIth A View', 'Lovely Studio', 'Sunny Studio in Midtown Manhattan', 'Private Room in Brooklyn', 'Private Room in The Heart of Manhattan', 'Beautiful Modern apt in Brooklyn', 'BEAUTIFUL 1 BEDROOM', 'Cozy Studio in the Heart of Greenwich Village', 'Beautiful bedroom in Brooklyn', 'BROOKLYN ROOM', 'Home Away from home', 'Beautiful Brooklyn Studio', 'Private Room near Columbia University', 'Clean and cozy', 'Cozy Bedroom in Harlem', 'Spacious room in great neighborhood', 'Spacious Private Room in the Heart of Williamsburg', 'Upper East Side Cozy Private Room', 'Cozy studio in the Heart of NYC', 'Charming Studio in the Heart of Astoria', 'Spacious East Village Apartment', 'Private room!', 'Lovely room in Brooklyn', 'Central Park studio', 'Private Room in the heart of Manhattan', 'Cozy Home Away from Home', 'Upper west side room', 'Large room in Washington Heights', 'Cozy Room in Chelsea', 'beautiful one bedroom apartment', 'Cozy Apartment Next To Central Park', 'Modern NYC Apartment', 'Private room in East Harlem', 'Private Bedroom in Bushwick', 'Charming Brooklyn Studio', 'Brooklyn room', 'Beautiful Apartment in the Heart of Harlem', 'Private Room in Bushwick', 'Master Bedroom in Luxury Building', 'Great Studio Near Time Square', 'Private Room in Upper West Side', 'Yankee baseball stay', '1 bedroom in Prime Williamsburg', 'Cozy Room In Clinton Hill, BK', 'Beautiful Room in Bushwick', 'BEAUTIFUL PRIVATE ROOM', 'A room with a view', 'private room', 'Home sweet Harlem', 'Spacious bedroom near Prospect Park', 'Apt in Heart of Williamsburg', 'Private room in Bushwick', 'Private Room in the heart of Williamsburg', 'Prime West village studio apartment', 'Private bedroom', 'perfect place for tourist, near subway, restaurant', 'Private room in Harlem', 'Perfect place for tourist, near subway, restaurant', 'NOT AVAILABLE', 'Deluxe Bedroom w/ 2 Beds - 3 stops to Times Square', 'Brooklyn Home away from Home', 'Cozy Room In Brooklyn', 'Brand New One bedroom UpperEastSide', 'In the Heart of Williamsburg', 'One Bedroom Apartment in Greenpoint', 'Beautiful sunny Bushwick Loft', 'Brooklyn Studio Apartment', 'Cozy room close to Columbia', 'Spacious Williamsburg Apartment', 'Sunny bedroom in Brooklyn', '1 bedroom in Brooklyn', 'midtown apartment', 'BEDROOM WITH PRIVATE BATHROOM', 'Beautiful Private Room in Brooklyn', 'Sunny room in Brooklyn', 'Cozy studio in Gramercy', 'Beautiful Private room in Brooklyn', 'HOME SWEET HOME', 'In the heart of Williamsburg', 'Private room near Central Park', 'Room for rent', 'Cozy Apartment near Central Park', 'Cozy Upper East Side Studio', 'NYC From Astoria Queens', 'Comfortable Room in Bushwick', 'cozy bedroom', 'Beautiful Bright Room in Soho', 'Spacious One bedroom apartment', 'Private Room in Williamsburg Loft', 'Time Square Private Studio', 'bedroom in big sunny loft (& Roof!)', 'Cozy and sunny 2 bedroom apartment', 'Sunny Room in Williamsburg', 'East Village Apartment', 'beautiful brownstone', 'Perfect Location!', 'ARTIST SPACE', 'BEAUTIFUL WEST VILLAGE APARTMENT', 'nyc studio apartment', 'cozy manhattan hideaway', 'Comfortable room in bushwick', 'SoHo Studio', 'Cozy private bedroom in Manhattan', 'Private room in Apartment', 'Beautiful apartment in the heart of Harlem', 'Greenpoint Apt', 'SUNNY PRIVATE ROOM', 'Cozy private room in Brooklyn', 'Private Room In Bushwick', 'Comfortable Living Space', 'NYC Marathon 2019 - Near Carnegie Hall - 2 Nights', 'Huge room in Sunset Park with AC', 'THE Space', 'Cozy guest room in Brooklyn', 'Charming studio close to everything', 'Beautiful Private Room!', 'Brooklyn Apartment', 'Beautiful One Bedroom Apartment', 'Large room in two-story brownstone', 'Beautiful room in Bushwick', 'Private Bedroom and Bathroom in Spacious Apartment', 'Greenpoint apt', 'Private room in East Village', 'Spacious Room in hip Williamsburg', 'HOME AWAY FROM HOME', 'Perfect location!', 'Beautiful Chelsea Townhouse bedroom', 'Spacious apartment in Brooklyn', 'Home sweet Home', 'Penthouse with Manhattan Views', 'Cozy Private Room in the heart of Bushwick', 'Cozy Bedroom in a great location.', 'Private Bedroom', 'Greenpoint apartment', 'Cozy Studio on the Upper East Side!', 'Cozy room in Williamsburg apartment', 'In the heart of the East Village', 'COZY ROOM', 'One bedroom apartment in Greenpoint', 'Cozy studio in the heart of Manhattan', 'One bedroom', 'Bushwick Brownstone, Long-term Stay', 'Private Room in Upper East Side', 'Large Sunny Apartment', 'Chelsea studio', 'Cozy 1 bedroom in Upper East Side', 'Cozy Apartment in Williamsburg', 'Room in house with WIFI and Netflix', \"Cozy Room in Hell's kitchen\", 'Cozy, Friendly Apt Share for Young Professionals', 'Cozy bedroom in Harlem', 'Private Room Near Prospect Park', 'Room with a View', 'Manhattan room', 'The Space', 'Spacious Studio in Midtown Manhattan', 'Charming East Village Apartment', 'Cozy Room in East Williamsburg', 'A Bay Window on Brooklyn', 'Cozy Room In Williamsburg Apartment', 'Artist space', 'Beautiful apartment in Brooklyn Heights', 'Master bedroom in luxury building', 'The Spot', 'Cozy Private Bedroom in Manhattan', 'Beautiful Brooklyn studio', 'Cozy room in Chelsea', 'Great Apt Steps from Central Park', 'Private room in WILLIAMSBURG LOFT', 'Spacious and bright bedroom', 'Moxy NYC Downtown-7 Nights Min', 'Brooklyn Palace', 'Cozy Studio apartment', 'Room For Rent', 'Cozy bedroom in Downtown Manhattan', 'Private Room', 'Spacious Duplex w/ additional loft.', '*Lovely Apt in Heart of Park Slope*', 'Sunny private bedroom', 'Cozy Private Room in Astoria', 'Large Bedroom', 'Beautiful East Village apartment', 'in the heart of williamsburg', 'Newly renovated apartment in the heart of Brooklyn', 'Two Bedroom Apartment in Williamsburg', 'Two bedroom apartment in Williamsburg', 'Bright Room in Williamsburg', 'Cozy Brooklyn getaway', 'Private Bedroom in Williamsburg', 'SUNNY ROOM', \"Brooklyn's Finest\", 'Sunny and Spacious Private Bedroom', 'Cozy studio with private entrance', 'Large spacious room', 'TRANQUILITY', 'Beautiful Bedroom in Brooklyn', '2 Bed 2 Bath Close to Park pool In Building', 'Sunny Apartment in Clinton Hill', 'Private Room in Clinton Hill', 'Beautiful Private Room', 'Bushwick loft', 'Private Room Available!', 'Private Room in Hamilton Heights', 'Comfortable living space', 'Lovely Apartment Near Prospect Park', 'Midtown Apartment', 'Beautiful private room in Brooklyn', 'CLOSE TO EAST SIDE HOSPITALS- Modern 2 Bedroom Apt', 'Private Room!', 'Cozy Room in Harlem', 'Cozy apartment in Brooklyn, NY', 'Cozy room', 'Cozy Room in Brooklyn', 'Williamsburg Dream Loft', 'Room in the heart of Williamsburg', 'Cozy Studio in the heart of NYC', 'Cozy West Village Apartment', 'Studio Apartment', 'UES oasis', 'cozy room in brooklyn', 'Brooklyn Apt', 'Perfect Location in Manhattan', '1 Bedroom in 2 Bedroom Apartment', 'private room in Astoria', 'HEART of MANHATTAN', 'Modern Apartment in The Heart of Brooklyn', 'Comfort Home', 'Tu Tranquilidad no tiene precio', 'Home away from Home', 'Brooklyn Home with a View', 'Cozy Room In the Heart of Astoria', 'Le Chateau vacation', 'Sunny apartment in Clinton Hill', 'Cozy and Sunny 2 bedroom apartment', 'Private Room for Rent', 'Cozy Room in Upper East Side', \"Cozy Room in Hell's Kitchen\", 'Lovely room In Williamsburg', 'Brooklyn Home With A View', 'Cozy upper east side studio', 'Cozy Private room near Central Park', 'Private Room in the Heart of Financial District', 'Prime East Village 1 Bedroom', 'Lovely private room in the heart of Williamsburg', 'Spacious Room in Williamsburg', 'Brooklyn Paradise', 'Stylish Windsor Terrace Flat', 'Cozy room in the heart of Bushwick', '1 bedroom in the East Village', 'Cozy East Village Studio', 'Cozy bedroom in downtown Manhattan', 'Cozy one bedroom apartment', 'Marsha INN', 'Sunny Room in the heart of Williamsburg', 'East Village gem', 'East village apartment', 'Prime Park Slope apartment', 'Manhattan Studio', 'Lovely Room in Brooklyn', 'Large Sunny apartment', 'Great studio near TIME SQUARE', 'room in Harlem', 'Beautiful room in Manhattan', 'Tu tranquilidad no tiene precio', 'Private Room In Hamilton Heights', 'NYC Studio Apartment', 'Home Away from Home', 'Kew gardens', 'Cozy bedroom', 'BEAUTIFUL BROOKLYN ROOM', 'large spacious room', 'Charming private room', 'Cosy Bedroom in CITY CENTER', 'Cozy Studio in the Heart of Manhattan', 'Cozy Apartment', 'Your home away from home', 'Brooklyn house', 'Private Room in Bushwick, Brooklyn', 'Cozy Room in the heart of Bushwick', 'Spacious duplex apt in Brooklyn', 'HOME AWAY', 'Jades Place', 'Bright room in Bushwick', 'Soho 1 Bedroom', 'Cozy Studio', 'Room with a view', 'Heart of the city', 'Upper West Side Room', 'Cozy, Friendly Apt Share For Young Professionals', 'very small room near Columbia Uni med school', \"Private room in Hell's Kitchen\", 'Cozy Apartment Near Central Park', 'Duplex apartment', 'Clean and Cozy', 'Room available in Bushwick!', 'Greenpoint room', 'Home away from Home in Brooklyn/Queens borderline', 'Sunny bedroom in Williamsburg', 'Great Studio near Time Square', 'COZY SPOT', 'Lovely bedroom', 'Beautiful Apartment in Williamsburg', 'Brooklyn apartment', 'Private bedroom in Bushwick', 'Private Room in Williamsburg Apt', 'The spot', 'Cozy Apartment in Brooklyn, NY', 'Private Room in East Harlem', 'Brooklyn home away from home', 'Prime Park Slope Apartment', 'Sunny Studio near Central Park', 'Sunny Room in Lower East Side Apt!', 'Hamilton heights home', 'Beautiful 1 Bedroom Apartment', 'Cozy room in bushwick, Brooklyn', 'Private Room in Luxury Building', 'Lovely room', 'Cozy studio in the heart of Greenwich Village', 'Crash pad', 'Sunny Bedroom in Brooklyn', 'Sunny Room', 'Large Private Bedroom', 'Room With A View', 'Room in Harlem', 'Private sunny room in Bushwick', 'Spacious and bright Bedroom', 'Home Away', 'Cozy studio close to Central Park', 'Single room', 'Private Room in East Village', 'Cozy Private room in Brooklyn', 'Private Room in Lower East Side', 'Private room in luxury building', 'Bushwick Brownstone, Long-Term Stay', 'Spacious Duplex Apt in Brooklyn', 'Charming Studio in Brooklyn', 'Cozy Upper East Side Apartment', 'Cozy Home', 'Cozy 1 Bedroom Apartment', 'BEDROOM IN UWS', 'SoHo 1 Bedroom', 'Private room in Queens', 'Large one bedroom apartment', 'THE LOFT', 'Private Room in Bed-Stuy', 'Cozy Private Room in Brooklyn', 'Room with Private Bathroom', 'Modern Apartment in the heart of Brooklyn', 'Spacious Williamsburg apartment', 'Room with private bathroom', 'One bedroom apartment', 'Cozy UES studio', 'Manhattan Room', 'The Loft', 'Sunny Private Bedroom', 'Cozy Private Room near Central Park', 'Lovely Apartment', 'Private Room in Astoria', 'Private cozy room', 'Bedroom in UWS', 'Private room near Prospect Park', 'Spacious 1 bedroom in East Village', 'A TASTE OF BROOKLYN', 'Your Home Away From Home!', 'Not available', 'Private room in East Williamsburg', 'Cozy Room in Astoria', 'East Village Gem', 'Cozy private room in Williamsburg', 'East Village studio', 'Brooklyn Home', 'Lovely Bedroom', 'Cozy studio apartment', 'Spacious Bedroom near Prospect Park', 'Sunny and Spacious private bedroom', 'A Room With A View', 'Studio Near Time Square', 'Heart of Bushwick', 'Cozy Room in the Heart of Astoria', '1 Bedroom in williamsburg', 'COZY 1 BEDROOM APARTMENT', 'Cozy studio', 'In the Heart of the East Village', 'Meyers Inn', 'Cozy UES Studio', 'Cozy room in NYC', 'Perfect location in Manhattan', 'Private room in Upper West Side', 'Brooklyn House', 'Private room in apartment', 'Private Room in Park Slope', 'Charming Harlem apartment', 'Sunny room in the heart of Williamsburg', 'Sunny Private room in Brooklyn', 'PRIME WEST VILLAGE STUDIO APARTMENT', 'Homey, Friendly Apt Share Next to Subway', 'Your Own Apartment in Lower Manhattan', 'Spacious studio in midtown Manhattan', 'BEST LOCATION IN NY', 'Studio apartment', 'Williamsburg Bedroom', 'Beautiful Apartment in the Heart of Chelsea', 'Your Home Away from Home', 'Cozy room in Manhattan', 'Comfy Private Bedroom', 'Home Sweet Home', 'Cozy apartment in Brooklyn', 'Chelsea Studio', 'Charming 1 Bedroom in West Village', 'Spacious Room in Great Neighborhood', 'Sunny Private Room', 'Cozy room in East Williamsburg', 'In The Heart of The East Village', 'Cozy BedRoom in a great location.', 'Feel at home', 'Comfy private room in Williamsburg', 'Private Bedroom in Washington Heights', 'Cozy room in Nyc', 'Private bedroom and bathroom in spacious apartment', 'Cozy apartment in Williamsburg', 'Private room in Hamilton Heights', 'Comfort home', 'Spacious Apartment in the heart of Manhattan', 'Perfect Room in Brooklyn', 'Beautiful West Village Apartment', 'East Village Studio', 'Nice Room', 'Home Away From Home', 'Cozy room in heart of Williamsburg', 'Charming West Village apartment', 'Upper East Side cozy private room', 'Private room in Bushwick, Brooklyn', 'Charming West Village Apartment', 'Private Bedroom in Sunny Bushwick Apartment', 'NYC from Astoria Queens', 'NYC experience', 'Private Room in Spacious Apartment', 'Cozy private room', 'Beautiful 1 Bedroom', 'Your Home away from Home!', 'Large room in 3 bedroom apartment', 'Private Sunny Room in Bushwick', 'Cozy Studio with Private Entrance', 'private room in LES', 'Very small room near Columbia Uni med school', 'Spacious Studio', 'Private room in Williamsburg apt', 'One Bedroom Apartment', 'PARK SLOPE TOWNHOUSE', 'Kew Gardens', 'Sunny East Village apartment', 'East village sanctuary', 'Cozy Room in East Village', 'Private Room in Bushwick Loft', 'Comfy Private Room in Williamsburg', 'Sunny Studio Near Central Park', 'Private room in Brooklyn', 'Nice room', 'Charming East Village apartment', 'Cozy room in Upper East Side', 'Cozy private room in the heart of Bushwick', 'Beautiful Spacious Room', 'Spacious Room In Hip Williamsburg', 'Room B', 'Bk home away from home', 'Spacious private room in the heart of Williamsburg', 'Beautiful Private room!', 'Comfort zone', 'Private bedroom in Washington Heights', 'SUNNY STUDIO IN CHELSEA', 'Lovely apartment near Prospect Park', 'Classic Brooklyn brownstone', 'Private Room in East Williamsburg', 'Hip Bushwick Apartment', 'Simple + Cute + Spacious Studio (Perfect for 1-2)', 'Murray Hill studio', 'Private room in the heart of Williamsburg', 'Bedroom in big sunny loft (& roof!)', 'New York City Living', 'Spacious one bedroom apartment', 'Home Sweet Harlem', 'Brand new one bedroom UpperEastSide', 'Large One Bedroom Apartment', 'Beautiful East Village Apartment', \"Brooklyn's finest\", 'Cozy Manhattan Hideaway', 'Spacious Private Room', 'Cozy apartment near Central Park', 'Cozy Room in Heart of Williamsburg', 'Private Room near Central Park', 'Greenpoint Apartment', 'Cozy Room in Bushwick, Brooklyn', 'Private Room in Beautiful Apartment', 'Cozy room in Harlem', 'Greenpoint Oasis', 'Newly Renovated Apartment in the Heart of Brooklyn', 'NYC Marathon 2019 - Near Carnegie Hall - 2 nights', 'HUGE room in Sunset Park with AC', 'Cozy spot', 'Private room available!', 'Sunny Bedroom in Williamsburg', 'Private room in Williamsburg Apt', 'SoHo studio', 'lovely room', 'Cozy Private Room in Williamsburg', 'Charming studio apartment', 'large room in 3 bedroom apartment', 'Crash Pad', 'Sunny Bushwick Apartment', 'Brooklyn Studio apartment', 'Stylish Windsor Terrace flat', 'Meyers inn', 'Home away from Home.', 'Cozy room in East Village', 'Private room near Columbia University', 'Sunny room in Williamsburg', 'A bay window on Brooklyn', 'Spacious Apartment in Brooklyn', 'Cozy room in the Heart of Astoria', 'UES Oasis'}\n",
      "Potential capitalization issues in column 'host_name': {'Michele', 'Roseanne', 'WeiWei', 'KImberly', 'LaToya', 'Estelle', 'Mackenzie', 'Matt', 'Jojo', 'DeShawn', 'JaNae', 'Annmarie', 'Latoya', 'JoLynn', 'FLora', 'DeAnna', 'JacQueline', 'McKenzie', 'Rosemarie', 'Deedee', 'TaRi', 'EStelle', 'Jolynn', 'Joann', 'Flora', 'LaTasha', 'JoJo', 'Kimberly', 'Deshawn', 'Deanna', 'EmiLy', 'Emily', 'Tari', 'Latasha', 'MaTT', 'Weiwei', 'MacKenzie', 'RoseAnne', 'AnnMarie', 'Janae', 'JoAnn', 'Lulu', 'Mckenzie', 'LuLu', 'RoseMarie', 'Jacqueline', 'DeeDee', 'MIchele'}\n"
     ]
    }
   ],
   "source": [
    "for column in df.select_dtypes(include=['object']).columns:\n",
    "    # Counting occurrences of each value in original and lowercased form\n",
    "    original_counts = df[column].value_counts()\n",
    "    lowercased_counts = df[column].str.lower().value_counts()\n",
    "\n",
    "    # Finding values with differing counts\n",
    "    inconsistent_capitalization = set()\n",
    "    for value in original_counts.index:\n",
    "        if lowercased_counts[value.lower()] != original_counts[value]:\n",
    "            inconsistent_capitalization.add(value)\n",
    "\n",
    "    if inconsistent_capitalization:\n",
    "        print(f\"Potential capitalization issues in column '{column}': {inconsistent_capitalization}\")"
   ]
  },
  {
   "cell_type": "markdown",
   "id": "d04ddc70",
   "metadata": {},
   "source": [
    "We will leave the `name` column unchanged as this is a column of titles for the AirBnB posting. The `host_name` column has some obvious capitalisation errors. These are fixed here."
   ]
  },
  {
   "cell_type": "code",
   "execution_count": 14,
   "id": "e774695e",
   "metadata": {},
   "outputs": [],
   "source": [
    "correct_capitalization = {\n",
    "    'KImberly': 'Kimberly',\n",
    "    'JaNae': 'Janae',\n",
    "    'MaTT': 'Matt',\n",
    "    'TaRi': 'Tari',\n",
    "    'FLora': 'Flora',\n",
    "    'MIchele': 'Michele',\n",
    "}\n",
    "\n",
    "# Apply corrections\n",
    "for incorrect, correct in correct_capitalization.items():\n",
    "    df['host_name'] = df['host_name'].replace(incorrect, correct)\n"
   ]
  },
  {
   "cell_type": "code",
   "execution_count": 15,
   "id": "dd928f65",
   "metadata": {},
   "outputs": [
    {
     "name": "stdout",
     "output_type": "stream",
     "text": [
      "Potential capitalization issues in host_name: {'Roseanne', 'WeiWei', 'LaToya', 'Estelle', 'Mackenzie', 'DeShawn', 'Jojo', 'Annmarie', 'Latoya', 'JoLynn', 'JacQueline', 'DeAnna', 'McKenzie', 'Rosemarie', 'Deedee', 'EStelle', 'Jolynn', 'Joann', 'LaTasha', 'JoJo', 'Deshawn', 'Deanna', 'EmiLy', 'Emily', 'Latasha', 'Weiwei', 'MacKenzie', 'RoseAnne', 'AnnMarie', 'JoAnn', 'Lulu', 'Mckenzie', 'LuLu', 'RoseMarie', 'Jacqueline', 'DeeDee'}\n"
     ]
    }
   ],
   "source": [
    "# Counting occurrences of each value in original and lowercased form\n",
    "original_counts = df['host_name'].value_counts()\n",
    "lowercased_counts = df['host_name'].str.lower().value_counts()\n",
    "\n",
    "# Finding values with differing counts\n",
    "inconsistent_capitalization = set()\n",
    "for value in original_counts.index:\n",
    "    if lowercased_counts[value.lower()] != original_counts[value]:\n",
    "        inconsistent_capitalization.add(value)\n",
    "\n",
    "if inconsistent_capitalization:\n",
    "    print(f\"Potential capitalization issues in host_name: {inconsistent_capitalization}\")"
   ]
  },
  {
   "cell_type": "code",
   "execution_count": 16,
   "id": "97201dfc",
   "metadata": {},
   "outputs": [],
   "source": [
    "correct_capitalization = {\n",
    "    'EmiLy': 'Emily',\n",
    "    'EStelle': 'Estelle'\n",
    "}\n",
    "\n",
    "# Apply corrections\n",
    "for incorrect, correct in correct_capitalization.items():\n",
    "    df['host_name'] = df['host_name'].replace(incorrect, correct)"
   ]
  },
  {
   "cell_type": "code",
   "execution_count": 17,
   "id": "b2982387",
   "metadata": {},
   "outputs": [
    {
     "name": "stdout",
     "output_type": "stream",
     "text": [
      "Potential capitalization issues in host_name: {'Roseanne', 'WeiWei', 'Jojo', 'LaToya', 'Mackenzie', 'DeShawn', 'Annmarie', 'Latoya', 'JoLynn', 'JacQueline', 'DeAnna', 'McKenzie', 'Rosemarie', 'Deedee', 'Jolynn', 'Joann', 'LaTasha', 'JoJo', 'Deshawn', 'Deanna', 'Latasha', 'Weiwei', 'MacKenzie', 'RoseAnne', 'AnnMarie', 'JoAnn', 'Lulu', 'Mckenzie', 'LuLu', 'RoseMarie', 'Jacqueline', 'DeeDee'}\n"
     ]
    }
   ],
   "source": [
    "# Counting occurrences of each value in original and lowercased form\n",
    "original_counts = df['host_name'].value_counts()\n",
    "lowercased_counts = df['host_name'].str.lower().value_counts()\n",
    "\n",
    "# Finding values with differing counts\n",
    "inconsistent_capitalization = set()\n",
    "for value in original_counts.index:\n",
    "    if lowercased_counts[value.lower()] != original_counts[value]:\n",
    "        inconsistent_capitalization.add(value)\n",
    "\n",
    "if inconsistent_capitalization:\n",
    "    print(f\"Potential capitalization issues in host_name: {inconsistent_capitalization}\")"
   ]
  },
  {
   "cell_type": "markdown",
   "id": "e9a43948",
   "metadata": {},
   "source": [
    "We now check for any spelling inconsistencies that may affect analysis of the `neighbourhood_group` and `neighbourhood` columns."
   ]
  },
  {
   "cell_type": "code",
   "execution_count": 18,
   "id": "8152dc5b",
   "metadata": {},
   "outputs": [
    {
     "data": {
      "text/plain": [
       "Manhattan        21661\n",
       "Brooklyn         20104\n",
       "Queens            5666\n",
       "Bronx             1091\n",
       "Staten Island      373\n",
       "Name: neighbourhood_group, dtype: int64"
      ]
     },
     "execution_count": 18,
     "metadata": {},
     "output_type": "execute_result"
    }
   ],
   "source": [
    "df.neighbourhood_group.value_counts()"
   ]
  },
  {
   "cell_type": "code",
   "execution_count": 19,
   "id": "b6a22abc",
   "metadata": {},
   "outputs": [
    {
     "data": {
      "text/plain": [
       "Williamsburg          3920\n",
       "Bedford-Stuyvesant    3714\n",
       "Harlem                2658\n",
       "Bushwick              2465\n",
       "Upper West Side       1971\n",
       "                      ... \n",
       "Fort Wadsworth           1\n",
       "Richmondtown             1\n",
       "New Dorp                 1\n",
       "Rossville                1\n",
       "Willowbrook              1\n",
       "Name: neighbourhood, Length: 221, dtype: int64"
      ]
     },
     "execution_count": 19,
     "metadata": {},
     "output_type": "execute_result"
    }
   ],
   "source": [
    "df.neighbourhood.value_counts()"
   ]
  },
  {
   "cell_type": "code",
   "execution_count": 20,
   "id": "8f8cfe99",
   "metadata": {},
   "outputs": [
    {
     "name": "stdout",
     "output_type": "stream",
     "text": [
      "Todt Hill                     4\n",
      "Arden Heights                 4\n",
      "Castleton Corners             4\n",
      "Mill Basin                    4\n",
      "Holliswood                    4\n",
      "Spuyten Duyvil                4\n",
      "Olinville                     4\n",
      "Prince's Bay                  4\n",
      "Breezy Point                  3\n",
      "Neponsit                      3\n",
      "Huguenot                      3\n",
      "Graniteville                  3\n",
      "Eltingville                   3\n",
      "Westerleigh                   2\n",
      "Bay Terrace, Staten Island    2\n",
      "Co-op City                    2\n",
      "Howland Hook                  2\n",
      "Lighthouse Hill               2\n",
      "Silver Lake                   2\n",
      "West Farms                    2\n",
      "Woodrow                       1\n",
      "Fort Wadsworth                1\n",
      "Richmondtown                  1\n",
      "New Dorp                      1\n",
      "Rossville                     1\n",
      "Willowbrook                   1\n",
      "Name: neighbourhood, dtype: int64\n"
     ]
    }
   ],
   "source": [
    "# Calculate the frequency of each unique value in the 'neighbourhood' column\n",
    "neighbourhood_counts = df.neighbourhood.value_counts()\n",
    "\n",
    "# Choose a threshold to filter low frequency entries.\n",
    "threshold = 5\n",
    "\n",
    "# Filter out the neighbourhoods with counts below the threshold\n",
    "low_freq_neighbourhoods = neighbourhood_counts[neighbourhood_counts < threshold]\n",
    "\n",
    "# Display the low frequency neighbourhoods\n",
    "print(low_freq_neighbourhoods)"
   ]
  },
  {
   "cell_type": "markdown",
   "id": "5cc4a980",
   "metadata": {},
   "source": [
    "Upon manual inspection of the neighbourhoods with low frequency, no apparent spelling errors were identified. However, this review highlighted a potential inconsistency with the neighbourhood name \"Bay Terrace, Staten Island\". Notably, \"Staten Island\" is already designated as a borough in the `neighbourhood_group` column. This inclusion might be intended to differentiate this \"Bay Terrace\" from another in a different borough. To clarify this, we should identify any other neighbourhood entries containing commas. This will help determine if similar naming conventions are used elsewhere in the dataset, and whether any further action is required."
   ]
  },
  {
   "cell_type": "code",
   "execution_count": 21,
   "id": "e90b8078",
   "metadata": {},
   "outputs": [
    {
     "data": {
      "text/html": [
       "<div>\n",
       "<style scoped>\n",
       "    .dataframe tbody tr th:only-of-type {\n",
       "        vertical-align: middle;\n",
       "    }\n",
       "\n",
       "    .dataframe tbody tr th {\n",
       "        vertical-align: top;\n",
       "    }\n",
       "\n",
       "    .dataframe thead th {\n",
       "        text-align: right;\n",
       "    }\n",
       "</style>\n",
       "<table border=\"1\" class=\"dataframe\">\n",
       "  <thead>\n",
       "    <tr style=\"text-align: right;\">\n",
       "      <th></th>\n",
       "      <th>neighbourhood</th>\n",
       "      <th>neighbourhood_group</th>\n",
       "    </tr>\n",
       "  </thead>\n",
       "  <tbody>\n",
       "    <tr>\n",
       "      <th>25146</th>\n",
       "      <td>Bay Terrace, Staten Island</td>\n",
       "      <td>Staten Island</td>\n",
       "    </tr>\n",
       "    <tr>\n",
       "      <th>42862</th>\n",
       "      <td>Bay Terrace, Staten Island</td>\n",
       "      <td>Staten Island</td>\n",
       "    </tr>\n",
       "  </tbody>\n",
       "</table>\n",
       "</div>"
      ],
      "text/plain": [
       "                    neighbourhood neighbourhood_group\n",
       "25146  Bay Terrace, Staten Island       Staten Island\n",
       "42862  Bay Terrace, Staten Island       Staten Island"
      ]
     },
     "execution_count": 21,
     "metadata": {},
     "output_type": "execute_result"
    }
   ],
   "source": [
    "# Filtering the neighbourhoods that contain commas\n",
    "neighbourhoods_with_commas = df[df.neighbourhood.str.contains(',')]\n",
    "\n",
    "# Displaying the entries with neighbourhoods that contain commas\n",
    "neighbourhoods_with_commas[['neighbourhood', 'neighbourhood_group']]"
   ]
  },
  {
   "cell_type": "code",
   "execution_count": 22,
   "id": "3672cb74",
   "metadata": {},
   "outputs": [
    {
     "data": {
      "text/html": [
       "<div>\n",
       "<style scoped>\n",
       "    .dataframe tbody tr th:only-of-type {\n",
       "        vertical-align: middle;\n",
       "    }\n",
       "\n",
       "    .dataframe tbody tr th {\n",
       "        vertical-align: top;\n",
       "    }\n",
       "\n",
       "    .dataframe thead th {\n",
       "        text-align: right;\n",
       "    }\n",
       "</style>\n",
       "<table border=\"1\" class=\"dataframe\">\n",
       "  <thead>\n",
       "    <tr style=\"text-align: right;\">\n",
       "      <th></th>\n",
       "      <th>id</th>\n",
       "      <th>name</th>\n",
       "      <th>host_id</th>\n",
       "      <th>host_name</th>\n",
       "      <th>neighbourhood_group</th>\n",
       "      <th>neighbourhood</th>\n",
       "      <th>latitude</th>\n",
       "      <th>longitude</th>\n",
       "      <th>room_type</th>\n",
       "      <th>price</th>\n",
       "      <th>minimum_nights</th>\n",
       "      <th>number_of_reviews</th>\n",
       "      <th>last_review</th>\n",
       "      <th>reviews_per_month</th>\n",
       "      <th>calculated_host_listings_count</th>\n",
       "      <th>availability_365</th>\n",
       "    </tr>\n",
       "  </thead>\n",
       "  <tbody>\n",
       "    <tr>\n",
       "      <th>3964</th>\n",
       "      <td>2467377</td>\n",
       "      <td>Centrally located in Bayside / Nice</td>\n",
       "      <td>7801481</td>\n",
       "      <td>Inez</td>\n",
       "      <td>Queens</td>\n",
       "      <td>Bay Terrace</td>\n",
       "      <td>40.78645</td>\n",
       "      <td>-73.77958</td>\n",
       "      <td>Private room</td>\n",
       "      <td>90</td>\n",
       "      <td>3</td>\n",
       "      <td>8</td>\n",
       "      <td>2019-01-15</td>\n",
       "      <td>0.25</td>\n",
       "      <td>2</td>\n",
       "      <td>324</td>\n",
       "    </tr>\n",
       "    <tr>\n",
       "      <th>5020</th>\n",
       "      <td>3609762</td>\n",
       "      <td>Sunny spacious 3 BR/ 2Bth in Bayside townhouse</td>\n",
       "      <td>18189519</td>\n",
       "      <td>Irma</td>\n",
       "      <td>Queens</td>\n",
       "      <td>Bay Terrace</td>\n",
       "      <td>40.77995</td>\n",
       "      <td>-73.78506</td>\n",
       "      <td>Entire home/apt</td>\n",
       "      <td>184</td>\n",
       "      <td>3</td>\n",
       "      <td>146</td>\n",
       "      <td>2019-06-19</td>\n",
       "      <td>2.46</td>\n",
       "      <td>1</td>\n",
       "      <td>143</td>\n",
       "    </tr>\n",
       "    <tr>\n",
       "      <th>5955</th>\n",
       "      <td>4357892</td>\n",
       "      <td>New!!!  4 BR/2 Bth in a private house.</td>\n",
       "      <td>22727798</td>\n",
       "      <td>Roman</td>\n",
       "      <td>Queens</td>\n",
       "      <td>Bay Terrace</td>\n",
       "      <td>40.77774</td>\n",
       "      <td>-73.78376</td>\n",
       "      <td>Entire home/apt</td>\n",
       "      <td>189</td>\n",
       "      <td>3</td>\n",
       "      <td>85</td>\n",
       "      <td>2019-06-15</td>\n",
       "      <td>1.88</td>\n",
       "      <td>1</td>\n",
       "      <td>330</td>\n",
       "    </tr>\n",
       "    <tr>\n",
       "      <th>7068</th>\n",
       "      <td>5094593</td>\n",
       "      <td>Cozy room in a quite neighborhood</td>\n",
       "      <td>7801481</td>\n",
       "      <td>Inez</td>\n",
       "      <td>Queens</td>\n",
       "      <td>Bay Terrace</td>\n",
       "      <td>40.78598</td>\n",
       "      <td>-73.77915</td>\n",
       "      <td>Private room</td>\n",
       "      <td>99</td>\n",
       "      <td>3</td>\n",
       "      <td>4</td>\n",
       "      <td>2018-05-04</td>\n",
       "      <td>0.08</td>\n",
       "      <td>2</td>\n",
       "      <td>7</td>\n",
       "    </tr>\n",
       "    <tr>\n",
       "      <th>25146</th>\n",
       "      <td>20148331</td>\n",
       "      <td>BIG-3 BDRM house, 1hr to Manhattan, near beach</td>\n",
       "      <td>7927832</td>\n",
       "      <td>Yulia</td>\n",
       "      <td>Staten Island</td>\n",
       "      <td>Bay Terrace, Staten Island</td>\n",
       "      <td>40.55182</td>\n",
       "      <td>-74.14439</td>\n",
       "      <td>Entire home/apt</td>\n",
       "      <td>150</td>\n",
       "      <td>3</td>\n",
       "      <td>1</td>\n",
       "      <td>2018-08-16</td>\n",
       "      <td>0.09</td>\n",
       "      <td>1</td>\n",
       "      <td>0</td>\n",
       "    </tr>\n",
       "    <tr>\n",
       "      <th>36669</th>\n",
       "      <td>29151631</td>\n",
       "      <td>The warm place</td>\n",
       "      <td>219666829</td>\n",
       "      <td>Charlotte</td>\n",
       "      <td>Queens</td>\n",
       "      <td>Bay Terrace</td>\n",
       "      <td>40.77971</td>\n",
       "      <td>-73.77857</td>\n",
       "      <td>Shared room</td>\n",
       "      <td>32</td>\n",
       "      <td>2</td>\n",
       "      <td>6</td>\n",
       "      <td>2019-06-23</td>\n",
       "      <td>0.95</td>\n",
       "      <td>1</td>\n",
       "      <td>169</td>\n",
       "    </tr>\n",
       "    <tr>\n",
       "      <th>42862</th>\n",
       "      <td>33275070</td>\n",
       "      <td>Modern studio/private entrance/superb location</td>\n",
       "      <td>250580779</td>\n",
       "      <td>Viktoriya</td>\n",
       "      <td>Staten Island</td>\n",
       "      <td>Bay Terrace, Staten Island</td>\n",
       "      <td>40.55105</td>\n",
       "      <td>-74.13660</td>\n",
       "      <td>Entire home/apt</td>\n",
       "      <td>55</td>\n",
       "      <td>30</td>\n",
       "      <td>2</td>\n",
       "      <td>2019-05-21</td>\n",
       "      <td>0.82</td>\n",
       "      <td>1</td>\n",
       "      <td>0</td>\n",
       "    </tr>\n",
       "    <tr>\n",
       "      <th>47850</th>\n",
       "      <td>35945859</td>\n",
       "      <td>纽约的家</td>\n",
       "      <td>98455047</td>\n",
       "      <td>Jessica</td>\n",
       "      <td>Queens</td>\n",
       "      <td>Bay Terrace</td>\n",
       "      <td>40.77415</td>\n",
       "      <td>-73.79218</td>\n",
       "      <td>Entire home/apt</td>\n",
       "      <td>258</td>\n",
       "      <td>1</td>\n",
       "      <td>0</td>\n",
       "      <td>NaT</td>\n",
       "      <td>0.00</td>\n",
       "      <td>1</td>\n",
       "      <td>362</td>\n",
       "    </tr>\n",
       "  </tbody>\n",
       "</table>\n",
       "</div>"
      ],
      "text/plain": [
       "             id                                            name    host_id  \\\n",
       "3964    2467377             Centrally located in Bayside / Nice    7801481   \n",
       "5020    3609762  Sunny spacious 3 BR/ 2Bth in Bayside townhouse   18189519   \n",
       "5955    4357892          New!!!  4 BR/2 Bth in a private house.   22727798   \n",
       "7068    5094593               Cozy room in a quite neighborhood    7801481   \n",
       "25146  20148331  BIG-3 BDRM house, 1hr to Manhattan, near beach    7927832   \n",
       "36669  29151631                                  The warm place  219666829   \n",
       "42862  33275070  Modern studio/private entrance/superb location  250580779   \n",
       "47850  35945859                                            纽约的家   98455047   \n",
       "\n",
       "       host_name neighbourhood_group               neighbourhood  latitude  \\\n",
       "3964        Inez              Queens                 Bay Terrace  40.78645   \n",
       "5020        Irma              Queens                 Bay Terrace  40.77995   \n",
       "5955       Roman              Queens                 Bay Terrace  40.77774   \n",
       "7068        Inez              Queens                 Bay Terrace  40.78598   \n",
       "25146      Yulia       Staten Island  Bay Terrace, Staten Island  40.55182   \n",
       "36669  Charlotte              Queens                 Bay Terrace  40.77971   \n",
       "42862  Viktoriya       Staten Island  Bay Terrace, Staten Island  40.55105   \n",
       "47850    Jessica              Queens                 Bay Terrace  40.77415   \n",
       "\n",
       "       longitude        room_type  price  minimum_nights  number_of_reviews  \\\n",
       "3964   -73.77958     Private room     90               3                  8   \n",
       "5020   -73.78506  Entire home/apt    184               3                146   \n",
       "5955   -73.78376  Entire home/apt    189               3                 85   \n",
       "7068   -73.77915     Private room     99               3                  4   \n",
       "25146  -74.14439  Entire home/apt    150               3                  1   \n",
       "36669  -73.77857      Shared room     32               2                  6   \n",
       "42862  -74.13660  Entire home/apt     55              30                  2   \n",
       "47850  -73.79218  Entire home/apt    258               1                  0   \n",
       "\n",
       "      last_review  reviews_per_month  calculated_host_listings_count  \\\n",
       "3964   2019-01-15               0.25                               2   \n",
       "5020   2019-06-19               2.46                               1   \n",
       "5955   2019-06-15               1.88                               1   \n",
       "7068   2018-05-04               0.08                               2   \n",
       "25146  2018-08-16               0.09                               1   \n",
       "36669  2019-06-23               0.95                               1   \n",
       "42862  2019-05-21               0.82                               1   \n",
       "47850         NaT               0.00                               1   \n",
       "\n",
       "       availability_365  \n",
       "3964                324  \n",
       "5020                143  \n",
       "5955                330  \n",
       "7068                  7  \n",
       "25146                 0  \n",
       "36669               169  \n",
       "42862                 0  \n",
       "47850               362  "
      ]
     },
     "execution_count": 22,
     "metadata": {},
     "output_type": "execute_result"
    }
   ],
   "source": [
    "df[df.neighbourhood.str.contains('Bay Terrace')]"
   ]
  },
  {
   "cell_type": "markdown",
   "id": "f08104a8",
   "metadata": {},
   "source": [
    "Upon analysis, it was identified that the dataset uses \"Bay Terrace, Staten Island\" to differentiate it from the \"Bay Terrace\" neighbourhood in Queens. To maintain the integrity and specificity of the dataset, this naming convention will be preserved as is. However, to ensure clarity for future users of this dataset, a note regarding this particular naming distinction will be included in the README file accompanying the dataset. This is intended to prevent any potential confusion or misinterpretation during subsequent analyses."
   ]
  },
  {
   "cell_type": "code",
   "execution_count": 23,
   "id": "5f784d13",
   "metadata": {},
   "outputs": [
    {
     "data": {
      "text/plain": [
       "array(['Private room', 'Entire home/apt', 'Shared room'], dtype=object)"
      ]
     },
     "execution_count": 23,
     "metadata": {},
     "output_type": "execute_result"
    }
   ],
   "source": [
    "df.room_type.unique()"
   ]
  },
  {
   "cell_type": "markdown",
   "id": "68044016",
   "metadata": {},
   "source": [
    "### Handling Whitespace in Text Data\n",
    "\n",
    "Having verified the consistency in capitalization, spelling, and format in the key categorical columns such as `neighbourhood_group`, `neighbourhood`, and `room_type`, we now shift our focus to addressing potential whitespace issues in other textual data fields. \n",
    "\n",
    "Whitespace issues, particularly leading, trailing, or excessive spaces within text, can impact the accuracy and efficiency of data analysis. These issues are often found in fields with free-form text entered manually by users. \n",
    "\n",
    "In the next step of our data cleaning process, we will:\n",
    "\n",
    "1. **Trim Leading and Trailing Spaces**: Removing any spaces at the beginning or end of the text strings.\n",
    "2. **Eliminate Extra Spaces Between Words**: Replacing multiple consecutive spaces with a single space to ensure consistency in the data.\n",
    "\n",
    "We will apply these whitespace handling techniques to relevant columns such as 'description', 'name', and any other columns where free text is entered. This step is crucial for maintaining the quality and reliability of our dataset for subsequent analysis."
   ]
  },
  {
   "cell_type": "code",
   "execution_count": 24,
   "id": "3e1638d2",
   "metadata": {},
   "outputs": [],
   "source": [
    "# Trim leading and trailing spaces in 'name' and 'host_name' columns\n",
    "df['name'] = df['name'].str.strip()\n",
    "df['host_name'] = df['host_name'].str.strip()"
   ]
  },
  {
   "cell_type": "code",
   "execution_count": 25,
   "id": "ac92725c",
   "metadata": {},
   "outputs": [],
   "source": [
    "# Replace multiple spaces with a single space in 'name' and 'host_name' columns\n",
    "df['name'] = df['name'].str.replace(r'\\s+', ' ', regex=True)\n",
    "df['host_name'] = df['host_name'].str.replace(r'\\s+', ' ', regex=True)"
   ]
  },
  {
   "cell_type": "code",
   "execution_count": null,
   "id": "b1bf7632",
   "metadata": {},
   "outputs": [],
   "source": []
  }
 ],
 "metadata": {
  "kernelspec": {
   "display_name": "Python 3 (ipykernel)",
   "language": "python",
   "name": "python3"
  },
  "language_info": {
   "codemirror_mode": {
    "name": "ipython",
    "version": 3
   },
   "file_extension": ".py",
   "mimetype": "text/x-python",
   "name": "python",
   "nbconvert_exporter": "python",
   "pygments_lexer": "ipython3",
   "version": "3.11.3"
  }
 },
 "nbformat": 4,
 "nbformat_minor": 5
}
